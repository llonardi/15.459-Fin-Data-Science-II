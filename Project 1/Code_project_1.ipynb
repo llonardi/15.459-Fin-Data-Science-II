{
 "cells": [
  {
   "cell_type": "code",
   "execution_count": 1,
   "metadata": {},
   "outputs": [],
   "source": [
    "import pandas as pd\n",
    "import numpy as np"
   ]
  },
  {
   "cell_type": "code",
   "execution_count": 2,
   "metadata": {},
   "outputs": [],
   "source": [
    "filepath_train = '/Users/hermannviktor/Dropbox/MIT/Courses/2. Fall Term/15.458 Data Science/Assignments/Assignment 4/Data_proj_d_train.csv'\n",
    "filepath_test = '/Users/hermannviktor/Dropbox/MIT/Courses/2. Fall Term/15.458 Data Science/Assignments/Assignment 4/Data_proj_d_test.csv'"
   ]
  },
  {
   "cell_type": "code",
   "execution_count": 3,
   "metadata": {},
   "outputs": [],
   "source": [
    "data_train = pd.read_csv(filepath_train)\n",
    "data_test = pd.read_csv(filepath_test)"
   ]
  },
  {
   "cell_type": "code",
   "execution_count": 4,
   "metadata": {},
   "outputs": [
    {
     "name": "stdout",
     "output_type": "stream",
     "text": [
      "(73697, 3)\n",
      "(1266713, 3)\n"
     ]
    }
   ],
   "source": [
    "print(data_train.shape)\n",
    "print(data_test.shape)"
   ]
  },
  {
   "cell_type": "code",
   "execution_count": 5,
   "metadata": {},
   "outputs": [],
   "source": [
    "data_train['cat'] = data_train.cat.str.strip()\n",
    "data_test['cat'] = data_test.cat.str.strip()"
   ]
  },
  {
   "cell_type": "code",
   "execution_count": 6,
   "metadata": {},
   "outputs": [],
   "source": [
    "h1 = ['ECAT','GCAT','MCAT','CCAT']"
   ]
  },
  {
   "cell_type": "code",
   "execution_count": 7,
   "metadata": {},
   "outputs": [],
   "source": [
    "data_train_parent = data_train[data_train['cat'].isin(h1)]\n",
    "data_train_child = data_train[~data_train['cat'].isin(h1)]"
   ]
  },
  {
   "cell_type": "code",
   "execution_count": 8,
   "metadata": {},
   "outputs": [],
   "source": [
    "data_test_parent = data_test[data_test['cat'].isin(h1)]\n",
    "data_test_child = data_test[~data_test['cat'].isin(h1)]"
   ]
  },
  {
   "cell_type": "code",
   "execution_count": 9,
   "metadata": {},
   "outputs": [
    {
     "name": "stdout",
     "output_type": "stream",
     "text": [
      "(27087, 3)\n",
      "(46610, 3)\n"
     ]
    }
   ],
   "source": [
    "print(data_train_parent.shape)\n",
    "print(data_train_child.shape)"
   ]
  },
  {
   "cell_type": "code",
   "execution_count": 10,
   "metadata": {},
   "outputs": [
    {
     "name": "stdout",
     "output_type": "stream",
     "text": [
      "(459113, 3)\n",
      "(807600, 3)\n"
     ]
    }
   ],
   "source": [
    "print(data_test_parent.shape)\n",
    "print(data_test_child.shape)"
   ]
  },
  {
   "cell_type": "code",
   "execution_count": 23,
   "metadata": {},
   "outputs": [],
   "source": [
    "duplicate_train_parent = data_train_parent.shape[0] - len(set(data_train_parent['id']))\n",
    "duplicate_test_parent = data_test_parent.shape[0] - len(set(data_test_parent['id']))\n",
    "duplicate_train_child = data_train_child.shape[0] - len(set(data_train_child['id']))\n",
    "duplicate_test_child = data_test_child.shape[0] - len(set(data_test_child['id']))"
   ]
  },
  {
   "cell_type": "code",
   "execution_count": 24,
   "metadata": {},
   "outputs": [
    {
     "name": "stdout",
     "output_type": "stream",
     "text": [
      "3938\n",
      "68497\n",
      "24197\n",
      "428933\n"
     ]
    }
   ],
   "source": [
    "print(duplicate_train_parent)\n",
    "print(duplicate_test_parent)\n",
    "print(duplicate_train_child)\n",
    "print(duplicate_test_child)"
   ]
  },
  {
   "cell_type": "code",
   "execution_count": 25,
   "metadata": {},
   "outputs": [
    {
     "name": "stdout",
     "output_type": "stream",
     "text": [
      "68497\n"
     ]
    }
   ],
   "source": [
    "diff_duplicate = data_test_parent.shape[0] - len(set(data_test_parent['id']))\n",
    "print(diff_duplicate)"
   ]
  },
  {
   "cell_type": "code",
   "execution_count": 26,
   "metadata": {},
   "outputs": [],
   "source": [
    "percentage_duplicate = (1 - (diff_duplicate / data_test_parent.shape[0]))*100"
   ]
  },
  {
   "cell_type": "code",
   "execution_count": 27,
   "metadata": {},
   "outputs": [
    {
     "name": "stdout",
     "output_type": "stream",
     "text": [
      "85.08057929093708\n"
     ]
    }
   ],
   "source": [
    "print(percentage_duplicate)"
   ]
  },
  {
   "cell_type": "code",
   "execution_count": null,
   "metadata": {},
   "outputs": [],
   "source": []
  }
 ],
 "metadata": {
  "kernelspec": {
   "display_name": "Python [conda env:MIT]",
   "language": "python",
   "name": "conda-env-MIT-py"
  },
  "language_info": {
   "codemirror_mode": {
    "name": "ipython",
    "version": 3
   },
   "file_extension": ".py",
   "mimetype": "text/x-python",
   "name": "python",
   "nbconvert_exporter": "python",
   "pygments_lexer": "ipython3",
   "version": "3.6.7"
  }
 },
 "nbformat": 4,
 "nbformat_minor": 2
}
