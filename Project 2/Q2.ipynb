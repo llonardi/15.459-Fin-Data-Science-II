{
 "cells": [
  {
   "cell_type": "code",
   "execution_count": 35,
   "metadata": {},
   "outputs": [],
   "source": [
    "import pandas as pd\n",
    "import numpy as np\n",
    "import matplotlib.pyplot as plt"
   ]
  },
  {
   "cell_type": "code",
   "execution_count": 55,
   "metadata": {},
   "outputs": [],
   "source": [
    "filepath_prices = '/Users/hermannviktor/Python/PycharmProjects/15.459-Fin-Data-Science-II/Project 2/Project_E_Q2_Prices.xlsx'\n",
    "filepath_returns = '/Users/hermannviktor/Python/PycharmProjects/15.459-Fin-Data-Science-II/Project 2/Project_E_Q2_Returns.xlsx'"
   ]
  },
  {
   "cell_type": "code",
   "execution_count": 58,
   "metadata": {},
   "outputs": [],
   "source": [
    "px_df = pd.read_excel(filepath_prices)\n",
    "px_df = px_df.set_index('Date')"
   ]
  },
  {
   "cell_type": "code",
   "execution_count": 59,
   "metadata": {},
   "outputs": [
    {
     "data": {
      "text/html": [
       "<div>\n",
       "<style scoped>\n",
       "    .dataframe tbody tr th:only-of-type {\n",
       "        vertical-align: middle;\n",
       "    }\n",
       "\n",
       "    .dataframe tbody tr th {\n",
       "        vertical-align: top;\n",
       "    }\n",
       "\n",
       "    .dataframe thead th {\n",
       "        text-align: right;\n",
       "    }\n",
       "</style>\n",
       "<table border=\"1\" class=\"dataframe\">\n",
       "  <thead>\n",
       "    <tr style=\"text-align: right;\">\n",
       "      <th></th>\n",
       "      <th>SP1_Index</th>\n",
       "      <th>SPX_Index</th>\n",
       "      <th>SPY_Equity</th>\n",
       "      <th>GLD_Equity</th>\n",
       "      <th>GLD_CMDTY</th>\n",
       "      <th>TVIX_Equity</th>\n",
       "      <th>VIX_Index</th>\n",
       "    </tr>\n",
       "    <tr>\n",
       "      <th>Date</th>\n",
       "      <th></th>\n",
       "      <th></th>\n",
       "      <th></th>\n",
       "      <th></th>\n",
       "      <th></th>\n",
       "      <th></th>\n",
       "      <th></th>\n",
       "    </tr>\n",
       "  </thead>\n",
       "  <tbody>\n",
       "    <tr>\n",
       "      <th>2010-01-01</th>\n",
       "      <td>NaN</td>\n",
       "      <td>NaN</td>\n",
       "      <td>NaN</td>\n",
       "      <td>NaN</td>\n",
       "      <td>1097.33</td>\n",
       "      <td>NaN</td>\n",
       "      <td>NaN</td>\n",
       "    </tr>\n",
       "    <tr>\n",
       "      <th>2010-01-04</th>\n",
       "      <td>1128.8</td>\n",
       "      <td>1132.98</td>\n",
       "      <td>113.33</td>\n",
       "      <td>109.80</td>\n",
       "      <td>1121.20</td>\n",
       "      <td>NaN</td>\n",
       "      <td>20.04</td>\n",
       "    </tr>\n",
       "    <tr>\n",
       "      <th>2010-01-05</th>\n",
       "      <td>1132.3</td>\n",
       "      <td>1136.52</td>\n",
       "      <td>113.63</td>\n",
       "      <td>109.70</td>\n",
       "      <td>1118.00</td>\n",
       "      <td>NaN</td>\n",
       "      <td>19.35</td>\n",
       "    </tr>\n",
       "    <tr>\n",
       "      <th>2010-01-06</th>\n",
       "      <td>1133.0</td>\n",
       "      <td>1137.14</td>\n",
       "      <td>113.71</td>\n",
       "      <td>111.51</td>\n",
       "      <td>1138.40</td>\n",
       "      <td>NaN</td>\n",
       "      <td>19.16</td>\n",
       "    </tr>\n",
       "  </tbody>\n",
       "</table>\n",
       "</div>"
      ],
      "text/plain": [
       "            SP1_Index  SPX_Index  SPY_Equity  GLD_Equity  GLD_CMDTY  \\\n",
       "Date                                                                  \n",
       "2010-01-01        NaN        NaN         NaN         NaN    1097.33   \n",
       "2010-01-04     1128.8    1132.98      113.33      109.80    1121.20   \n",
       "2010-01-05     1132.3    1136.52      113.63      109.70    1118.00   \n",
       "2010-01-06     1133.0    1137.14      113.71      111.51    1138.40   \n",
       "\n",
       "            TVIX_Equity  VIX_Index  \n",
       "Date                                \n",
       "2010-01-01          NaN        NaN  \n",
       "2010-01-04          NaN      20.04  \n",
       "2010-01-05          NaN      19.35  \n",
       "2010-01-06          NaN      19.16  "
      ]
     },
     "execution_count": 59,
     "metadata": {},
     "output_type": "execute_result"
    }
   ],
   "source": [
    "px_df.head(4)"
   ]
  },
  {
   "cell_type": "code",
   "execution_count": 68,
   "metadata": {},
   "outputs": [
    {
     "data": {
      "image/png": "[encoded data removed]",
      "text/plain": [
       "<Figure size 432x288 with 1 Axes>"
      ]
     },
     "metadata": {
      "needs_background": "light"
     },
     "output_type": "display_data"
    }
   ],
   "source": [
    "fig = plt.scatter(px_df['GLD_CMDTY'],px_df['GLD_Equity'])\n",
    "plt.show()"
   ]
  },
  {
   "cell_type": "code",
   "execution_count": null,
   "metadata": {},
   "outputs": [],
   "source": []
  }
 ],
 "metadata": {
  "kernelspec": {
   "display_name": "Python [conda env:MIT]",
   "language": "python",
   "name": "conda-env-MIT-py"
  },
  "language_info": {
   "codemirror_mode": {
    "name": "ipython",
    "version": 3
   },
   "file_extension": ".py",
   "mimetype": "text/x-python",
   "name": "python",
   "nbconvert_exporter": "python",
   "pygments_lexer": "ipython3",
   "version": "3.6.7"
  }
 },
 "nbformat": 4,
 "nbformat_minor": 2
}
